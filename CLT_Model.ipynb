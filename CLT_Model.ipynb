{
 "cells": [
  {
   "cell_type": "markdown",
   "metadata": {},
   "source": [
    "# Part I"
   ]
  },
  {
   "cell_type": "code",
   "execution_count": 221,
   "metadata": {},
   "outputs": [
    {
     "ename": "SyntaxError",
     "evalue": "invalid syntax (<ipython-input-221-727b7d3290af>, line 1)",
     "output_type": "error",
     "traceback": [
      "\u001b[1;36m  File \u001b[1;32m\"<ipython-input-221-727b7d3290af>\"\u001b[1;36m, line \u001b[1;32m1\u001b[0m\n\u001b[1;33m    a)\tDaily sign-ups is an important metric to quantify the success of growth strategies and campaigns led by our country managers.\u001b[0m\n\u001b[1;37m     ^\u001b[0m\n\u001b[1;31mSyntaxError\u001b[0m\u001b[1;31m:\u001b[0m invalid syntax\n"
     ]
    }
   ],
   "source": [
    "a)\tDaily sign-ups is an important metric to quantify the success of growth strategies and campaigns led by our country managers. \n",
    "Write a query to calculate the mean, the standard deviation and the median of weekly sign-ups per country.\n",
    "\n",
    "select\n",
    "\tU.country, \n",
    "\tavg(U.signups),\n",
    "\tstddev(U.signups) as standarddeviation, \n",
    "\tpercentile_disc(0.5) within group (order by U.signups) as median_of_signups\n",
    "from\n",
    "(\n",
    "\tselect country,count(*) as signups,extract(week from created_date)+1 as dayofweek \n",
    "\tfrom users \n",
    "\tgroup by country,extract(week from created_date)+1\n",
    ") AS U\n",
    "group by U.country;\n",
    "\n",
    "b)\tWe care about growth and also if users are engaged with our product. One of the many ways to track if they are “active” is from their card payment transactions. \n",
    "Write a query to calculate the volume of monthly card payment in USD per age group in the interval of 10?\n",
    "\n",
    "select ntile as age_bin,\n",
    "\tmin(y.age) as minimum_age,\n",
    "\tmax(y.age) as maximum_age,\n",
    "\tsum(y.monthly_usd_card_payments_count) as total_monthly_usd_card_payments_count_by_age_bin\n",
    "from\n",
    "( \n",
    "\tselect x.user_age as age,\n",
    "\t\tx.monthly_usd_card_payments_count as monthly_usd_card_payments_count,\n",
    "\t\tntile(10) over(order by x.user_age)\n",
    "\tfrom\n",
    "\t(\n",
    "\t\tselect trans.user_id,\n",
    "\t\t\ttrans.monthly_usd_card_payments_count as monthly_usd_card_payments_count,\n",
    "\t\t\ttrans.month_of,\n",
    "\t\t\tcustomer.birth_year,\n",
    "\t\t\tcustomer.user_age as user_age\n",
    "\t\tfrom\n",
    "\t\t(\n",
    "\t\t\tselect user_id,\n",
    "\t\t\t\tcount(*) as monthly_usd_card_payments_count,\n",
    "\t\t\t\textract(month from created_date) as month_of \n",
    "\t\t\tfrom transactions \n",
    "\t\t\twhere transactions_currency='USD' and \n",
    "\t\t\t\ttransactions_type='CARD_PAYMENT'\n",
    "\t\t\tgroup by user_id,extract(month from created_date)\n",
    "\t\t) as trans\n",
    "\t\tLEFT JOIN\n",
    "\t\t(\n",
    "\t\t\tselect user_id,\n",
    "\t\t\tbirth_year,\n",
    "\t\t\t(extract(ISOYEAR  from current_date)-birth_year)as user_age,\n",
    "\t\t\tcurrent_date \n",
    "\t\t\tfrom users\n",
    "\t\t) as customer\n",
    "\t\ton trans.user_id=customer.user_id\n",
    "\t)x\n",
    ")y\n",
    "group by ntile\n",
    "order by ntile;\n",
    "\n",
    "c)\tWe are interested in the spending patterns of non standard vs standard users. \n",
    "Write a query to show the number of days where the average card payments volume of non standard users is less than standard users.\n",
    "\n",
    "select count(*) as card_payments_non_standard_Less_than_standard\n",
    "from(\n",
    "select st.created_date as created_date, ('{' || string_agg('\"' || st.userplan || '\": ' || st.counts, ',') || '}')::json as card_payment_vol \n",
    "from (\n",
    "select customer.userplantype as userplan,count(*) as counts,trans.created_date as created_date\n",
    "from\n",
    "(\n",
    "\tselect user_id,\n",
    "\t\tplan,\n",
    "\t\tcase when plan='STANDARD' then 'STANDARD'\n",
    "\t\telse 'NON-STANDARD' end userplantype\n",
    "\tfrom users\n",
    ") as customer\n",
    "LEFT JOIN\n",
    "(\n",
    "\tselect DATE(created_date) as created_date,\n",
    "\t\ttransaction_id,\n",
    "\t\tuser_id \n",
    "\tfrom transactions \n",
    "\twhere transactions_type='CARD_PAYMENT'\n",
    ") as trans\n",
    "ON customer.user_id=trans.user_id\n",
    "group by customer.userplantype,trans.created_date\n",
    ") as st\n",
    "group by st.created_date\n",
    ") as stb\n",
    "where json_extract_path_text(stb.card_payment_vol,'STANDARD')<json_extract_path_text(stb.card_payment_vol,'NON-STANDARD')\n",
    "\n",
    "\n",
    "\n"
   ]
  },
  {
   "cell_type": "markdown",
   "metadata": {},
   "source": [
    "# Part II "
   ]
  },
  {
   "cell_type": "markdown",
   "metadata": {},
   "source": [
    "# Importing Packages"
   ]
  },
  {
   "cell_type": "code",
   "execution_count": 1,
   "metadata": {},
   "outputs": [],
   "source": [
    "import pandas as pd \n",
    "import numpy as np\n",
    "from datetime import timedelta\n",
    "from datetime import date\n",
    "import matplotlib.pyplot as plt\n",
    "import seaborn as sns\n",
    "%matplotlib inline"
   ]
  },
  {
   "cell_type": "markdown",
   "metadata": {},
   "source": [
    "# Loading Dateset"
   ]
  },
  {
   "cell_type": "code",
   "execution_count": 2,
   "metadata": {},
   "outputs": [],
   "source": [
    "users=pd.read_csv(\"data/rev-users.csv\")\n",
    "transactions=pd.read_csv(\"data/rev-transactions.csv\")\n",
    "devices=pd.read_csv(\"data/rev-devices.csv\")\n",
    "notifications=pd.read_csv(\"data/rev-notifications.csv\")"
   ]
  },
  {
   "cell_type": "markdown",
   "metadata": {},
   "source": [
    "## Userdefined Fucntion to explore data"
   ]
  },
  {
   "cell_type": "code",
   "execution_count": 74,
   "metadata": {},
   "outputs": [],
   "source": [
    "def inspect_data(data):\n",
    "    return pd.DataFrame({\"Data Type\":data.dtypes, \"No of Levels\":data.apply(lambda x: x.nunique(),axis=0),\"No of Nulls\":data.apply(lambda x: x.isnull().sum(),axis=0) ,\"Levels\":data.apply(lambda x: str(x.unique()),axis=0)})"
   ]
  },
  {
   "cell_type": "markdown",
   "metadata": {},
   "source": [
    "## Converting appropriate to date columns from string "
   ]
  },
  {
   "cell_type": "code",
   "execution_count": 150,
   "metadata": {},
   "outputs": [],
   "source": [
    "users['created_date']=pd.to_datetime(users['created_date'],format='%Y-%m-%d %H:%M')\n",
    "transactions['created_date']=pd.to_datetime(transactions['created_date'],format='%Y-%m-%d %H:%M')\n",
    "notifications['created_date']=pd.to_datetime(notifications['created_date'],format='%Y-%m-%d %H:%M')"
   ]
  },
  {
   "cell_type": "code",
   "execution_count": 109,
   "metadata": {},
   "outputs": [],
   "source": [
    "max_date=transactions['created_date'].max()"
   ]
  },
  {
   "cell_type": "code",
   "execution_count": 5,
   "metadata": {},
   "outputs": [],
   "source": [
    "min_date=transactions['created_date'].min()"
   ]
  },
  {
   "cell_type": "code",
   "execution_count": 6,
   "metadata": {},
   "outputs": [
    {
     "data": {
      "text/plain": [
       "transaction_id                 0\n",
       "transactions_type              0\n",
       "transactions_currency          0\n",
       "amount_usd                     0\n",
       "transactions_state             0\n",
       "ea_cardholderpresence    1170594\n",
       "ea_merchant_mcc          1158658\n",
       "ea_merchant_city         1158794\n",
       "ea_merchant_country      1158979\n",
       "direction                      0\n",
       "user_id                        0\n",
       "created_date                   0\n",
       "dtype: int64"
      ]
     },
     "execution_count": 6,
     "metadata": {},
     "output_type": "execute_result"
    }
   ],
   "source": [
    "transactions.isnull().sum()"
   ]
  },
  {
   "cell_type": "code",
   "execution_count": 7,
   "metadata": {},
   "outputs": [
    {
     "data": {
      "text/plain": [
       "datetime.date(2019, 5, 16)"
      ]
     },
     "execution_count": 7,
     "metadata": {},
     "output_type": "execute_result"
    }
   ],
   "source": [
    "max_date"
   ]
  },
  {
   "cell_type": "markdown",
   "metadata": {},
   "source": [
    "## Extracting Frequency, Recency, Monetary value and Duration of user.  Using them we calculated customer live value (palive) which is the key metrics to define a user is engaged or unengaged user. \n",
    "#### Frequency represents the number of repeat transcations the user has made\n",
    "#### Recency represents the age of the user when they made their most recent purchases\n",
    "#### Monetary value represents the average value of a given user’s transaction\n"
   ]
  },
  {
   "cell_type": "code",
   "execution_count": 28,
   "metadata": {},
   "outputs": [],
   "source": [
    "from lifetimes.utils import summary_data_from_transaction_data\n",
    "\n",
    "customer_transactions = summary_data_from_transaction_data(transactions,\n",
    "                                             customer_id_col = 'user_id',\n",
    "                                             datetime_col = 'created_date',\n",
    "                                                           monetary_value_col='amount_usd',\n",
    "                                             observation_period_end=max_date)"
   ]
  },
  {
   "cell_type": "code",
   "execution_count": 9,
   "metadata": {},
   "outputs": [
    {
     "data": {
      "text/html": [
       "<div>\n",
       "<style scoped>\n",
       "    .dataframe tbody tr th:only-of-type {\n",
       "        vertical-align: middle;\n",
       "    }\n",
       "\n",
       "    .dataframe tbody tr th {\n",
       "        vertical-align: top;\n",
       "    }\n",
       "\n",
       "    .dataframe thead th {\n",
       "        text-align: right;\n",
       "    }\n",
       "</style>\n",
       "<table border=\"1\" class=\"dataframe\">\n",
       "  <thead>\n",
       "    <tr style=\"text-align: right;\">\n",
       "      <th></th>\n",
       "      <th>frequency</th>\n",
       "      <th>recency</th>\n",
       "      <th>T</th>\n",
       "      <th>monetary_value</th>\n",
       "    </tr>\n",
       "    <tr>\n",
       "      <th>user_id</th>\n",
       "      <th></th>\n",
       "      <th></th>\n",
       "      <th></th>\n",
       "      <th></th>\n",
       "    </tr>\n",
       "  </thead>\n",
       "  <tbody>\n",
       "    <tr>\n",
       "      <th>user_0</th>\n",
       "      <td>121.0</td>\n",
       "      <td>471.0</td>\n",
       "      <td>485.0</td>\n",
       "      <td>112.742231</td>\n",
       "    </tr>\n",
       "    <tr>\n",
       "      <th>user_1</th>\n",
       "      <td>48.0</td>\n",
       "      <td>391.0</td>\n",
       "      <td>470.0</td>\n",
       "      <td>125.914167</td>\n",
       "    </tr>\n",
       "    <tr>\n",
       "      <th>user_10</th>\n",
       "      <td>296.0</td>\n",
       "      <td>492.0</td>\n",
       "      <td>497.0</td>\n",
       "      <td>175.989595</td>\n",
       "    </tr>\n",
       "    <tr>\n",
       "      <th>user_100</th>\n",
       "      <td>72.0</td>\n",
       "      <td>477.0</td>\n",
       "      <td>486.0</td>\n",
       "      <td>287.886389</td>\n",
       "    </tr>\n",
       "    <tr>\n",
       "      <th>user_1000</th>\n",
       "      <td>15.0</td>\n",
       "      <td>171.0</td>\n",
       "      <td>495.0</td>\n",
       "      <td>1420.922667</td>\n",
       "    </tr>\n",
       "  </tbody>\n",
       "</table>\n",
       "</div>"
      ],
      "text/plain": [
       "           frequency  recency      T  monetary_value\n",
       "user_id                                             \n",
       "user_0         121.0    471.0  485.0      112.742231\n",
       "user_1          48.0    391.0  470.0      125.914167\n",
       "user_10        296.0    492.0  497.0      175.989595\n",
       "user_100        72.0    477.0  486.0      287.886389\n",
       "user_1000       15.0    171.0  495.0     1420.922667"
      ]
     },
     "execution_count": 9,
     "metadata": {},
     "output_type": "execute_result"
    }
   ],
   "source": [
    "customer_transactions.head()"
   ]
  },
  {
   "cell_type": "code",
   "execution_count": 10,
   "metadata": {},
   "outputs": [
    {
     "data": {
      "text/html": [
       "<div>\n",
       "<style scoped>\n",
       "    .dataframe tbody tr th:only-of-type {\n",
       "        vertical-align: middle;\n",
       "    }\n",
       "\n",
       "    .dataframe tbody tr th {\n",
       "        vertical-align: top;\n",
       "    }\n",
       "\n",
       "    .dataframe thead th {\n",
       "        text-align: right;\n",
       "    }\n",
       "</style>\n",
       "<table border=\"1\" class=\"dataframe\">\n",
       "  <thead>\n",
       "    <tr style=\"text-align: right;\">\n",
       "      <th></th>\n",
       "      <th>frequency</th>\n",
       "      <th>recency</th>\n",
       "      <th>T</th>\n",
       "      <th>monetary_value</th>\n",
       "    </tr>\n",
       "  </thead>\n",
       "  <tbody>\n",
       "    <tr>\n",
       "      <th>count</th>\n",
       "      <td>18766.000000</td>\n",
       "      <td>18766.000000</td>\n",
       "      <td>18766.000000</td>\n",
       "      <td>1.876600e+04</td>\n",
       "    </tr>\n",
       "    <tr>\n",
       "      <th>mean</th>\n",
       "      <td>46.244378</td>\n",
       "      <td>214.798412</td>\n",
       "      <td>284.882980</td>\n",
       "      <td>8.745831e+05</td>\n",
       "    </tr>\n",
       "    <tr>\n",
       "      <th>std</th>\n",
       "      <td>56.770449</td>\n",
       "      <td>132.543797</td>\n",
       "      <td>108.042056</td>\n",
       "      <td>7.519481e+07</td>\n",
       "    </tr>\n",
       "    <tr>\n",
       "      <th>min</th>\n",
       "      <td>0.000000</td>\n",
       "      <td>0.000000</td>\n",
       "      <td>6.000000</td>\n",
       "      <td>0.000000e+00</td>\n",
       "    </tr>\n",
       "    <tr>\n",
       "      <th>25%</th>\n",
       "      <td>7.000000</td>\n",
       "      <td>123.000000</td>\n",
       "      <td>193.000000</td>\n",
       "      <td>3.178590e+01</td>\n",
       "    </tr>\n",
       "    <tr>\n",
       "      <th>50%</th>\n",
       "      <td>25.000000</td>\n",
       "      <td>210.000000</td>\n",
       "      <td>278.000000</td>\n",
       "      <td>8.292369e+01</td>\n",
       "    </tr>\n",
       "    <tr>\n",
       "      <th>75%</th>\n",
       "      <td>64.000000</td>\n",
       "      <td>317.000000</td>\n",
       "      <td>370.000000</td>\n",
       "      <td>1.767824e+02</td>\n",
       "    </tr>\n",
       "    <tr>\n",
       "      <th>max</th>\n",
       "      <td>462.000000</td>\n",
       "      <td>494.000000</td>\n",
       "      <td>500.000000</td>\n",
       "      <td>9.929086e+09</td>\n",
       "    </tr>\n",
       "  </tbody>\n",
       "</table>\n",
       "</div>"
      ],
      "text/plain": [
       "          frequency       recency             T  monetary_value\n",
       "count  18766.000000  18766.000000  18766.000000    1.876600e+04\n",
       "mean      46.244378    214.798412    284.882980    8.745831e+05\n",
       "std       56.770449    132.543797    108.042056    7.519481e+07\n",
       "min        0.000000      0.000000      6.000000    0.000000e+00\n",
       "25%        7.000000    123.000000    193.000000    3.178590e+01\n",
       "50%       25.000000    210.000000    278.000000    8.292369e+01\n",
       "75%       64.000000    317.000000    370.000000    1.767824e+02\n",
       "max      462.000000    494.000000    500.000000    9.929086e+09"
      ]
     },
     "execution_count": 10,
     "metadata": {},
     "output_type": "execute_result"
    }
   ],
   "source": [
    "customer_transactions.describe()"
   ]
  },
  {
   "cell_type": "markdown",
   "metadata": {},
   "source": [
    "### Plotting distrubution of Frequency, Recency and Duration of the users"
   ]
  },
  {
   "cell_type": "code",
   "execution_count": 11,
   "metadata": {},
   "outputs": [
    {
     "name": "stderr",
     "output_type": "stream",
     "text": [
      "C:\\Users\\littu\\Anaconda3\\lib\\site-packages\\seaborn\\distributions.py:218: MatplotlibDeprecationWarning: \n",
      "The 'normed' kwarg was deprecated in Matplotlib 2.1 and will be removed in 3.1. Use 'density' instead.\n",
      "  color=hist_color, **hist_kws)\n",
      "C:\\Users\\littu\\Anaconda3\\lib\\site-packages\\seaborn\\distributions.py:218: MatplotlibDeprecationWarning: \n",
      "The 'normed' kwarg was deprecated in Matplotlib 2.1 and will be removed in 3.1. Use 'density' instead.\n",
      "  color=hist_color, **hist_kws)\n",
      "C:\\Users\\littu\\Anaconda3\\lib\\site-packages\\seaborn\\distributions.py:218: MatplotlibDeprecationWarning: \n",
      "The 'normed' kwarg was deprecated in Matplotlib 2.1 and will be removed in 3.1. Use 'density' instead.\n",
      "  color=hist_color, **hist_kws)\n"
     ]
    },
    {
     "data": {
      "image/png": "[encoded data removed]",
      "text/plain": [
       "<Figure size 864x720 with 3 Axes>"
      ]
     },
     "metadata": {},
     "output_type": "display_data"
    }
   ],
   "source": [
    "# Plot RFM distributions\n",
    "plt.figure(figsize=(12,10))\n",
    "# Plot distribution of Frequency\n",
    "plt.subplot(3, 1, 1); \n",
    "sns.distplot(customer_transactions['frequency'])\n",
    "# Plot distribution of Recency\n",
    "plt.subplot(3, 1, 2); \n",
    "sns.distplot(customer_transactions['recency'])\n",
    "# Plot distribution of Customer duration\n",
    "plt.subplot(3, 1, 3); \n",
    "sns.distplot(customer_transactions['T'])\n",
    "# Show the plot\n",
    "plt.show()"
   ]
  },
  {
   "cell_type": "code",
   "execution_count": null,
   "metadata": {},
   "outputs": [],
   "source": []
  },
  {
   "cell_type": "code",
   "execution_count": 12,
   "metadata": {},
   "outputs": [
    {
     "data": {
      "text/plain": [
       "<lifetimes.BetaGeoFitter: fitted with 18766 subjects, a: 0.05, alpha: 3.64, b: 0.52, r: 0.69>"
      ]
     },
     "execution_count": 12,
     "metadata": {},
     "output_type": "execute_result"
    }
   ],
   "source": [
    "from lifetimes import BetaGeoFitter\n",
    "\n",
    "bgf = BetaGeoFitter(penalizer_coef=0.1)\n",
    "bgf.fit(customer_transactions['frequency'], customer_transactions['recency'], customer_transactions['T'])"
   ]
  },
  {
   "cell_type": "code",
   "execution_count": 20,
   "metadata": {},
   "outputs": [
    {
     "data": {
      "text/html": [
       "<div>\n",
       "<style scoped>\n",
       "    .dataframe tbody tr th:only-of-type {\n",
       "        vertical-align: middle;\n",
       "    }\n",
       "\n",
       "    .dataframe tbody tr th {\n",
       "        vertical-align: top;\n",
       "    }\n",
       "\n",
       "    .dataframe thead th {\n",
       "        text-align: right;\n",
       "    }\n",
       "</style>\n",
       "<table border=\"1\" class=\"dataframe\">\n",
       "  <thead>\n",
       "    <tr style=\"text-align: right;\">\n",
       "      <th></th>\n",
       "      <th>coef</th>\n",
       "      <th>se(coef)</th>\n",
       "      <th>lower 95% bound</th>\n",
       "      <th>upper 95% bound</th>\n",
       "    </tr>\n",
       "  </thead>\n",
       "  <tbody>\n",
       "    <tr>\n",
       "      <th>r</th>\n",
       "      <td>0.687309</td>\n",
       "      <td>0.006200</td>\n",
       "      <td>0.675157</td>\n",
       "      <td>0.699460</td>\n",
       "    </tr>\n",
       "    <tr>\n",
       "      <th>alpha</th>\n",
       "      <td>3.636906</td>\n",
       "      <td>0.046479</td>\n",
       "      <td>3.545806</td>\n",
       "      <td>3.728005</td>\n",
       "    </tr>\n",
       "    <tr>\n",
       "      <th>a</th>\n",
       "      <td>0.048562</td>\n",
       "      <td>0.000971</td>\n",
       "      <td>0.046659</td>\n",
       "      <td>0.050466</td>\n",
       "    </tr>\n",
       "    <tr>\n",
       "      <th>b</th>\n",
       "      <td>0.519209</td>\n",
       "      <td>0.010257</td>\n",
       "      <td>0.499106</td>\n",
       "      <td>0.539312</td>\n",
       "    </tr>\n",
       "  </tbody>\n",
       "</table>\n",
       "</div>"
      ],
      "text/plain": [
       "           coef  se(coef)  lower 95% bound  upper 95% bound\n",
       "r      0.687309  0.006200         0.675157         0.699460\n",
       "alpha  3.636906  0.046479         3.545806         3.728005\n",
       "a      0.048562  0.000971         0.046659         0.050466\n",
       "b      0.519209  0.010257         0.499106         0.539312"
      ]
     },
     "execution_count": 20,
     "metadata": {},
     "output_type": "execute_result"
    }
   ],
   "source": [
    "bgf.summary"
   ]
  },
  {
   "cell_type": "code",
   "execution_count": 14,
   "metadata": {},
   "outputs": [
    {
     "name": "stderr",
     "output_type": "stream",
     "text": [
      "C:\\Users\\littu\\Anaconda3\\lib\\site-packages\\lifetimes\\fitters\\beta_geo_fitter.py:205: RuntimeWarning: overflow encountered in double_scalars\n",
      "  denominator = 1 + (x > 0) * (a / (b + x - 1)) * ((alpha + T) / (alpha + recency)) ** (r + x)\n"
     ]
    },
    {
     "data": {
      "image/png": "[encoded data removed]",
      "text/plain": [
       "<Figure size 432x288 with 2 Axes>"
      ]
     },
     "metadata": {},
     "output_type": "display_data"
    }
   ],
   "source": [
    "from lifetimes.plotting import plot_frequency_recency_matrix\n",
    "\n",
    "plot_frequency_recency_matrix(bgf);"
   ]
  },
  {
   "cell_type": "code",
   "execution_count": 15,
   "metadata": {},
   "outputs": [
    {
     "data": {
      "image/png": "[encoded data removed]",
      "text/plain": [
       "<Figure size 432x288 with 2 Axes>"
      ]
     },
     "metadata": {},
     "output_type": "display_data"
    }
   ],
   "source": [
    "from lifetimes.plotting import plot_probability_alive_matrix\n",
    "\n",
    "plot_probability_alive_matrix(bgf);"
   ]
  },
  {
   "cell_type": "code",
   "execution_count": 21,
   "metadata": {},
   "outputs": [
    {
     "data": {
      "image/png": "[encoded data removed]",
      "text/plain": [
       "<Figure size 1008x288 with 2 Axes>"
      ]
     },
     "metadata": {},
     "output_type": "display_data"
    }
   ],
   "source": [
    "from scipy.stats import gamma, beta\n",
    "\n",
    "gbd = beta.rvs(bgf.params_['a'], bgf.params_['b'], size = 50000)\n",
    "ggd = gamma.rvs(bgf.params_['r'], scale=1./bgf.params_['alpha'], size = 50000)\n",
    "plt.figure(figsize=(14,4))\n",
    "plt.subplot(121)\n",
    "plt.title('Heterogenity of $p$')\n",
    "temp = plt.hist(gbd, 20, alpha=0.75)\n",
    "plt.subplot(122)\n",
    "plt.title('Heterogenity of $\\lambda$')\n",
    "temp = plt.hist(ggd, 20, alpha=0.75)"
   ]
  },
  {
   "cell_type": "markdown",
   "metadata": {},
   "source": [
    "While active, the number of transactions made by a customer follows a Poisson process with transaction rate λ\n",
    ".\n",
    "Heterogeneity in λ\n",
    "across customers follows a Gamma distribution with shape parameter r and scale parameter α\n",
    ".\n",
    "At time zero and right after each purchase the customer becomes inactive with a constant probability p\n",
    ".\n",
    "Heterogeneity in p\n",
    "across customers follows a Gamma distribution with parameter a and b\n",
    ".\n",
    "The transaction rate λ\n",
    "and the dropout probability p vary independently across customers."
   ]
  },
  {
   "cell_type": "code",
   "execution_count": 23,
   "metadata": {},
   "outputs": [
    {
     "data": {
      "image/png": "[encoded data removed]",
      "text/plain": [
       "<Figure size 432x288 with 1 Axes>"
      ]
     },
     "metadata": {},
     "output_type": "display_data"
    }
   ],
   "source": [
    "from lifetimes.plotting import plot_period_transactions\n",
    "\n",
    "plot_period_transactions(bgf);"
   ]
  },
  {
   "cell_type": "markdown",
   "metadata": {},
   "source": [
    "from lifetimes.utils import calibration_and_holdout_data\n",
    "\n",
    "customer_cal_holdout = calibration_and_holdout_data(transactions, 'user_id', 'created_date',freq = 'D',calibration_period_end='2018-01-01', observation_period_end='2019-05-16')"
   ]
  },
  {
   "cell_type": "code",
   "execution_count": null,
   "metadata": {},
   "outputs": [],
   "source": [
    "The red line represents the boundary between the calibration period on the left and the holdout period on the right\n",
    "model capturing predicting cumulative transactions well"
   ]
  },
  {
   "cell_type": "code",
   "execution_count": 23,
   "metadata": {},
   "outputs": [
    {
     "data": {
      "image/png": "[encoded data removed]",
      "text/plain": [
       "<Figure size 432x288 with 1 Axes>"
      ]
     },
     "metadata": {},
     "output_type": "display_data"
    }
   ],
   "source": [
    "from lifetimes.plotting import plot_cumulative_transactions\n",
    "plot_cumulative_transactions(bgf, transactions, 'created_date', 'user_id', 730, 365);"
   ]
  },
  {
   "cell_type": "code",
   "execution_count": null,
   "metadata": {},
   "outputs": [],
   "source": [
    "Model captuing general trends in the data"
   ]
  },
  {
   "cell_type": "code",
   "execution_count": 24,
   "metadata": {},
   "outputs": [
    {
     "data": {
      "image/png": "[encoded data removed]",
      "text/plain": [
       "<Figure size 432x288 with 1 Axes>"
      ]
     },
     "metadata": {},
     "output_type": "display_data"
    }
   ],
   "source": [
    "from lifetimes.plotting import plot_incremental_transactions\n",
    "plot_incremental_transactions(bgf, transactions, 'created_date', 'user_id', 730, 365);"
   ]
  },
  {
   "cell_type": "code",
   "execution_count": 44,
   "metadata": {},
   "outputs": [],
   "source": [
    "customer_transactions['palive'] = bgf.conditional_probability_alive(customer_transactions['frequency'],customer_transactions['recency'],customer_transactions['T'])\n"
   ]
  },
  {
   "cell_type": "code",
   "execution_count": 45,
   "metadata": {},
   "outputs": [
    {
     "data": {
      "text/html": [
       "<div>\n",
       "<style scoped>\n",
       "    .dataframe tbody tr th:only-of-type {\n",
       "        vertical-align: middle;\n",
       "    }\n",
       "\n",
       "    .dataframe tbody tr th {\n",
       "        vertical-align: top;\n",
       "    }\n",
       "\n",
       "    .dataframe thead th {\n",
       "        text-align: right;\n",
       "    }\n",
       "</style>\n",
       "<table border=\"1\" class=\"dataframe\">\n",
       "  <thead>\n",
       "    <tr style=\"text-align: right;\">\n",
       "      <th></th>\n",
       "      <th>frequency</th>\n",
       "      <th>recency</th>\n",
       "      <th>T</th>\n",
       "      <th>monetary_value</th>\n",
       "      <th>palive</th>\n",
       "      <th>churn</th>\n",
       "    </tr>\n",
       "    <tr>\n",
       "      <th>user_id</th>\n",
       "      <th></th>\n",
       "      <th></th>\n",
       "      <th></th>\n",
       "      <th></th>\n",
       "      <th></th>\n",
       "      <th></th>\n",
       "    </tr>\n",
       "  </thead>\n",
       "  <tbody>\n",
       "    <tr>\n",
       "      <th>user_0</th>\n",
       "      <td>121.0</td>\n",
       "      <td>471.0</td>\n",
       "      <td>485.0</td>\n",
       "      <td>112.742231</td>\n",
       "      <td>0.986337</td>\n",
       "      <td>not churned</td>\n",
       "    </tr>\n",
       "    <tr>\n",
       "      <th>user_1</th>\n",
       "      <td>48.0</td>\n",
       "      <td>391.0</td>\n",
       "      <td>470.0</td>\n",
       "      <td>125.914167</td>\n",
       "      <td>0.119395</td>\n",
       "      <td>churned</td>\n",
       "    </tr>\n",
       "    <tr>\n",
       "      <th>user_10</th>\n",
       "      <td>296.0</td>\n",
       "      <td>492.0</td>\n",
       "      <td>497.0</td>\n",
       "      <td>175.989595</td>\n",
       "      <td>0.996782</td>\n",
       "      <td>not churned</td>\n",
       "    </tr>\n",
       "    <tr>\n",
       "      <th>user_100</th>\n",
       "      <td>72.0</td>\n",
       "      <td>477.0</td>\n",
       "      <td>486.0</td>\n",
       "      <td>287.886389</td>\n",
       "      <td>0.997392</td>\n",
       "      <td>not churned</td>\n",
       "    </tr>\n",
       "    <tr>\n",
       "      <th>user_1000</th>\n",
       "      <td>15.0</td>\n",
       "      <td>171.0</td>\n",
       "      <td>495.0</td>\n",
       "      <td>1420.922667</td>\n",
       "      <td>0.000021</td>\n",
       "      <td>churned</td>\n",
       "    </tr>\n",
       "  </tbody>\n",
       "</table>\n",
       "</div>"
      ],
      "text/plain": [
       "           frequency  recency      T  monetary_value    palive        churn\n",
       "user_id                                                                    \n",
       "user_0         121.0    471.0  485.0      112.742231  0.986337  not churned\n",
       "user_1          48.0    391.0  470.0      125.914167  0.119395      churned\n",
       "user_10        296.0    492.0  497.0      175.989595  0.996782  not churned\n",
       "user_100        72.0    477.0  486.0      287.886389  0.997392  not churned\n",
       "user_1000       15.0    171.0  495.0     1420.922667  0.000021      churned"
      ]
     },
     "execution_count": 45,
     "metadata": {},
     "output_type": "execute_result"
    }
   ],
   "source": [
    "customer_transactions.head()"
   ]
  },
  {
   "cell_type": "code",
   "execution_count": 30,
   "metadata": {},
   "outputs": [
    {
     "name": "stderr",
     "output_type": "stream",
     "text": [
      "C:\\Users\\littu\\Anaconda3\\lib\\site-packages\\seaborn\\distributions.py:218: MatplotlibDeprecationWarning: \n",
      "The 'normed' kwarg was deprecated in Matplotlib 2.1 and will be removed in 3.1. Use 'density' instead.\n",
      "  color=hist_color, **hist_kws)\n"
     ]
    },
    {
     "data": {
      "image/png": "[encoded data removed]",
      "text/plain": [
       "<Figure size 432x288 with 1 Axes>"
      ]
     },
     "metadata": {},
     "output_type": "display_data"
    }
   ],
   "source": [
    "sns.distplot(customer_transactions['palive']);"
   ]
  },
  {
   "cell_type": "code",
   "execution_count": 35,
   "metadata": {},
   "outputs": [],
   "source": [
    "customer_transactions['churn'] = ['churned' if p < .8 else 'not churned' for p in customer_transactions['palive']]\n"
   ]
  },
  {
   "cell_type": "code",
   "execution_count": 36,
   "metadata": {},
   "outputs": [
    {
     "data": {
      "image/png": "[encoded data removed]",
      "text/plain": [
       "<Figure size 432x288 with 1 Axes>"
      ]
     },
     "metadata": {},
     "output_type": "display_data"
    }
   ],
   "source": [
    "sns.countplot(customer_transactions['churn']);"
   ]
  },
  {
   "cell_type": "code",
   "execution_count": 37,
   "metadata": {},
   "outputs": [
    {
     "name": "stderr",
     "output_type": "stream",
     "text": [
      "C:\\Users\\littu\\Anaconda3\\lib\\site-packages\\seaborn\\distributions.py:218: MatplotlibDeprecationWarning: \n",
      "The 'normed' kwarg was deprecated in Matplotlib 2.1 and will be removed in 3.1. Use 'density' instead.\n",
      "  color=hist_color, **hist_kws)\n"
     ]
    },
    {
     "data": {
      "image/png": "[encoded data removed]",
      "text/plain": [
       "<Figure size 432x288 with 1 Axes>"
      ]
     },
     "metadata": {},
     "output_type": "display_data"
    }
   ],
   "source": [
    "sns.distplot(customer_transactions[customer_transactions['churn']=='not churned']['palive']).set_title('Probability alive, not churned');"
   ]
  },
  {
   "cell_type": "code",
   "execution_count": 39,
   "metadata": {},
   "outputs": [
    {
     "data": {
      "text/plain": [
       "not churned    13936\n",
       "churned         4830\n",
       "Name: churn, dtype: int64"
      ]
     },
     "execution_count": 39,
     "metadata": {},
     "output_type": "execute_result"
    }
   ],
   "source": [
    "customer_transactions['churn'].value_counts()"
   ]
  },
  {
   "cell_type": "code",
   "execution_count": 48,
   "metadata": {},
   "outputs": [
    {
     "data": {
      "text/html": [
       "<div>\n",
       "<style scoped>\n",
       "    .dataframe tbody tr th:only-of-type {\n",
       "        vertical-align: middle;\n",
       "    }\n",
       "\n",
       "    .dataframe tbody tr th {\n",
       "        vertical-align: top;\n",
       "    }\n",
       "\n",
       "    .dataframe thead th {\n",
       "        text-align: right;\n",
       "    }\n",
       "</style>\n",
       "<table border=\"1\" class=\"dataframe\">\n",
       "  <thead>\n",
       "    <tr style=\"text-align: right;\">\n",
       "      <th></th>\n",
       "      <th>frequency</th>\n",
       "      <th>recency</th>\n",
       "      <th>T</th>\n",
       "      <th>monetary_value</th>\n",
       "      <th>palive</th>\n",
       "      <th>churn</th>\n",
       "    </tr>\n",
       "    <tr>\n",
       "      <th>user_id</th>\n",
       "      <th></th>\n",
       "      <th></th>\n",
       "      <th></th>\n",
       "      <th></th>\n",
       "      <th></th>\n",
       "      <th></th>\n",
       "    </tr>\n",
       "  </thead>\n",
       "  <tbody>\n",
       "    <tr>\n",
       "      <th>user_0</th>\n",
       "      <td>121.0</td>\n",
       "      <td>471.0</td>\n",
       "      <td>485.0</td>\n",
       "      <td>112.742231</td>\n",
       "      <td>0.986337</td>\n",
       "      <td>not churned</td>\n",
       "    </tr>\n",
       "    <tr>\n",
       "      <th>user_1</th>\n",
       "      <td>48.0</td>\n",
       "      <td>391.0</td>\n",
       "      <td>470.0</td>\n",
       "      <td>125.914167</td>\n",
       "      <td>0.119395</td>\n",
       "      <td>churned</td>\n",
       "    </tr>\n",
       "    <tr>\n",
       "      <th>user_10</th>\n",
       "      <td>296.0</td>\n",
       "      <td>492.0</td>\n",
       "      <td>497.0</td>\n",
       "      <td>175.989595</td>\n",
       "      <td>0.996782</td>\n",
       "      <td>not churned</td>\n",
       "    </tr>\n",
       "    <tr>\n",
       "      <th>user_100</th>\n",
       "      <td>72.0</td>\n",
       "      <td>477.0</td>\n",
       "      <td>486.0</td>\n",
       "      <td>287.886389</td>\n",
       "      <td>0.997392</td>\n",
       "      <td>not churned</td>\n",
       "    </tr>\n",
       "    <tr>\n",
       "      <th>user_1000</th>\n",
       "      <td>15.0</td>\n",
       "      <td>171.0</td>\n",
       "      <td>495.0</td>\n",
       "      <td>1420.922667</td>\n",
       "      <td>0.000021</td>\n",
       "      <td>churned</td>\n",
       "    </tr>\n",
       "  </tbody>\n",
       "</table>\n",
       "</div>"
      ],
      "text/plain": [
       "           frequency  recency      T  monetary_value    palive        churn\n",
       "user_id                                                                    \n",
       "user_0         121.0    471.0  485.0      112.742231  0.986337  not churned\n",
       "user_1          48.0    391.0  470.0      125.914167  0.119395      churned\n",
       "user_10        296.0    492.0  497.0      175.989595  0.996782  not churned\n",
       "user_100        72.0    477.0  486.0      287.886389  0.997392  not churned\n",
       "user_1000       15.0    171.0  495.0     1420.922667  0.000021      churned"
      ]
     },
     "execution_count": 48,
     "metadata": {},
     "output_type": "execute_result"
    }
   ],
   "source": [
    "customer_transactions.head()"
   ]
  },
  {
   "cell_type": "code",
   "execution_count": 62,
   "metadata": {},
   "outputs": [
    {
     "data": {
      "text/html": [
       "<div>\n",
       "<style scoped>\n",
       "    .dataframe tbody tr th:only-of-type {\n",
       "        vertical-align: middle;\n",
       "    }\n",
       "\n",
       "    .dataframe tbody tr th {\n",
       "        vertical-align: top;\n",
       "    }\n",
       "\n",
       "    .dataframe thead th {\n",
       "        text-align: right;\n",
       "    }\n",
       "</style>\n",
       "<table border=\"1\" class=\"dataframe\">\n",
       "  <thead>\n",
       "    <tr style=\"text-align: right;\">\n",
       "      <th></th>\n",
       "      <th>frequency</th>\n",
       "      <th>recency</th>\n",
       "      <th>T</th>\n",
       "      <th>monetary_value</th>\n",
       "      <th>palive</th>\n",
       "      <th>churn</th>\n",
       "      <th>R</th>\n",
       "      <th>F</th>\n",
       "    </tr>\n",
       "    <tr>\n",
       "      <th>user_id</th>\n",
       "      <th></th>\n",
       "      <th></th>\n",
       "      <th></th>\n",
       "      <th></th>\n",
       "      <th></th>\n",
       "      <th></th>\n",
       "      <th></th>\n",
       "      <th></th>\n",
       "    </tr>\n",
       "  </thead>\n",
       "  <tbody>\n",
       "    <tr>\n",
       "      <th>user_0</th>\n",
       "      <td>121.0</td>\n",
       "      <td>471.0</td>\n",
       "      <td>485.0</td>\n",
       "      <td>112.742231</td>\n",
       "      <td>0.986337</td>\n",
       "      <td>not churned</td>\n",
       "      <td>1</td>\n",
       "      <td>5</td>\n",
       "    </tr>\n",
       "    <tr>\n",
       "      <th>user_1</th>\n",
       "      <td>48.0</td>\n",
       "      <td>391.0</td>\n",
       "      <td>470.0</td>\n",
       "      <td>125.914167</td>\n",
       "      <td>0.119395</td>\n",
       "      <td>churned</td>\n",
       "      <td>1</td>\n",
       "      <td>4</td>\n",
       "    </tr>\n",
       "    <tr>\n",
       "      <th>user_10</th>\n",
       "      <td>296.0</td>\n",
       "      <td>492.0</td>\n",
       "      <td>497.0</td>\n",
       "      <td>175.989595</td>\n",
       "      <td>0.996782</td>\n",
       "      <td>not churned</td>\n",
       "      <td>1</td>\n",
       "      <td>5</td>\n",
       "    </tr>\n",
       "    <tr>\n",
       "      <th>user_100</th>\n",
       "      <td>72.0</td>\n",
       "      <td>477.0</td>\n",
       "      <td>486.0</td>\n",
       "      <td>287.886389</td>\n",
       "      <td>0.997392</td>\n",
       "      <td>not churned</td>\n",
       "      <td>1</td>\n",
       "      <td>4</td>\n",
       "    </tr>\n",
       "    <tr>\n",
       "      <th>user_1000</th>\n",
       "      <td>15.0</td>\n",
       "      <td>171.0</td>\n",
       "      <td>495.0</td>\n",
       "      <td>1420.922667</td>\n",
       "      <td>0.000021</td>\n",
       "      <td>churned</td>\n",
       "      <td>4</td>\n",
       "      <td>2</td>\n",
       "    </tr>\n",
       "  </tbody>\n",
       "</table>\n",
       "</div>"
      ],
      "text/plain": [
       "           frequency  recency      T  monetary_value    palive        churn  \\\n",
       "user_id                                                                       \n",
       "user_0         121.0    471.0  485.0      112.742231  0.986337  not churned   \n",
       "user_1          48.0    391.0  470.0      125.914167  0.119395      churned   \n",
       "user_10        296.0    492.0  497.0      175.989595  0.996782  not churned   \n",
       "user_100        72.0    477.0  486.0      287.886389  0.997392  not churned   \n",
       "user_1000       15.0    171.0  495.0     1420.922667  0.000021      churned   \n",
       "\n",
       "           R  F  \n",
       "user_id          \n",
       "user_0     1  5  \n",
       "user_1     1  4  \n",
       "user_10    1  5  \n",
       "user_100   1  4  \n",
       "user_1000  4  2  "
      ]
     },
     "execution_count": 62,
     "metadata": {},
     "output_type": "execute_result"
    }
   ],
   "source": [
    "r_labels = range(5, 0, -1); f_labels = range(1, 6)# Assign these labels to 4 equal percentile groups \n",
    "r_groups = pd.qcut(customer_transactions['recency'], q=5, labels=r_labels)# Assign these labels to 4 equal percentile groups \n",
    "f_groups = pd.qcut(customer_transactions['frequency'], q=5, labels=f_labels)# Create new columns R and F \n",
    "customer_transactions = customer_transactions.assign(R = r_groups.values, F = f_groups.values)\n",
    "customer_transactions.head()"
   ]
  },
  {
   "cell_type": "code",
   "execution_count": 66,
   "metadata": {},
   "outputs": [],
   "source": [
    "# Create labels for MonetaryValue\n",
    "m_labels = range(1, 6)# Assign these labels to three equal percentile groups \n",
    "m_groups = pd.qcut(customer_transactions['monetary_value'], q=5, labels=m_labels)# Create new column M\n",
    "customer_transactions = customer_transactions.assign(M = m_groups.values)"
   ]
  },
  {
   "cell_type": "code",
   "execution_count": 67,
   "metadata": {},
   "outputs": [
    {
     "data": {
      "text/html": [
       "<div>\n",
       "<style scoped>\n",
       "    .dataframe tbody tr th:only-of-type {\n",
       "        vertical-align: middle;\n",
       "    }\n",
       "\n",
       "    .dataframe tbody tr th {\n",
       "        vertical-align: top;\n",
       "    }\n",
       "\n",
       "    .dataframe thead th {\n",
       "        text-align: right;\n",
       "    }\n",
       "</style>\n",
       "<table border=\"1\" class=\"dataframe\">\n",
       "  <thead>\n",
       "    <tr style=\"text-align: right;\">\n",
       "      <th></th>\n",
       "      <th>frequency</th>\n",
       "      <th>recency</th>\n",
       "      <th>T</th>\n",
       "      <th>monetary_value</th>\n",
       "      <th>palive</th>\n",
       "      <th>churn</th>\n",
       "      <th>R</th>\n",
       "      <th>F</th>\n",
       "      <th>M</th>\n",
       "    </tr>\n",
       "    <tr>\n",
       "      <th>user_id</th>\n",
       "      <th></th>\n",
       "      <th></th>\n",
       "      <th></th>\n",
       "      <th></th>\n",
       "      <th></th>\n",
       "      <th></th>\n",
       "      <th></th>\n",
       "      <th></th>\n",
       "      <th></th>\n",
       "    </tr>\n",
       "  </thead>\n",
       "  <tbody>\n",
       "    <tr>\n",
       "      <th>user_0</th>\n",
       "      <td>121.0</td>\n",
       "      <td>471.0</td>\n",
       "      <td>485.0</td>\n",
       "      <td>112.742231</td>\n",
       "      <td>0.986337</td>\n",
       "      <td>not churned</td>\n",
       "      <td>1</td>\n",
       "      <td>5</td>\n",
       "      <td>4</td>\n",
       "    </tr>\n",
       "    <tr>\n",
       "      <th>user_1</th>\n",
       "      <td>48.0</td>\n",
       "      <td>391.0</td>\n",
       "      <td>470.0</td>\n",
       "      <td>125.914167</td>\n",
       "      <td>0.119395</td>\n",
       "      <td>churned</td>\n",
       "      <td>1</td>\n",
       "      <td>4</td>\n",
       "      <td>4</td>\n",
       "    </tr>\n",
       "    <tr>\n",
       "      <th>user_10</th>\n",
       "      <td>296.0</td>\n",
       "      <td>492.0</td>\n",
       "      <td>497.0</td>\n",
       "      <td>175.989595</td>\n",
       "      <td>0.996782</td>\n",
       "      <td>not churned</td>\n",
       "      <td>1</td>\n",
       "      <td>5</td>\n",
       "      <td>4</td>\n",
       "    </tr>\n",
       "    <tr>\n",
       "      <th>user_100</th>\n",
       "      <td>72.0</td>\n",
       "      <td>477.0</td>\n",
       "      <td>486.0</td>\n",
       "      <td>287.886389</td>\n",
       "      <td>0.997392</td>\n",
       "      <td>not churned</td>\n",
       "      <td>1</td>\n",
       "      <td>4</td>\n",
       "      <td>5</td>\n",
       "    </tr>\n",
       "    <tr>\n",
       "      <th>user_1000</th>\n",
       "      <td>15.0</td>\n",
       "      <td>171.0</td>\n",
       "      <td>495.0</td>\n",
       "      <td>1420.922667</td>\n",
       "      <td>0.000021</td>\n",
       "      <td>churned</td>\n",
       "      <td>4</td>\n",
       "      <td>2</td>\n",
       "      <td>5</td>\n",
       "    </tr>\n",
       "  </tbody>\n",
       "</table>\n",
       "</div>"
      ],
      "text/plain": [
       "           frequency  recency      T  monetary_value    palive        churn  \\\n",
       "user_id                                                                       \n",
       "user_0         121.0    471.0  485.0      112.742231  0.986337  not churned   \n",
       "user_1          48.0    391.0  470.0      125.914167  0.119395      churned   \n",
       "user_10        296.0    492.0  497.0      175.989595  0.996782  not churned   \n",
       "user_100        72.0    477.0  486.0      287.886389  0.997392  not churned   \n",
       "user_1000       15.0    171.0  495.0     1420.922667  0.000021      churned   \n",
       "\n",
       "           R  F  M  \n",
       "user_id             \n",
       "user_0     1  5  4  \n",
       "user_1     1  4  4  \n",
       "user_10    1  5  4  \n",
       "user_100   1  4  5  \n",
       "user_1000  4  2  5  "
      ]
     },
     "execution_count": 67,
     "metadata": {},
     "output_type": "execute_result"
    }
   ],
   "source": [
    "customer_transactions.head()\n"
   ]
  },
  {
   "cell_type": "code",
   "execution_count": 68,
   "metadata": {},
   "outputs": [],
   "source": [
    "# Concat RFM quartile values to create RFM Segments\n",
    "def join_rfm(x): \n",
    "    return str(x['R']) + str(x['F']) + str(x['M'])\n",
    "customer_transactions['RFM_Segment_Concat'] = customer_transactions.apply(join_rfm, axis=1)\n"
   ]
  },
  {
   "cell_type": "code",
   "execution_count": 70,
   "metadata": {},
   "outputs": [],
   "source": [
    "customer_transactions['RFM_Score']=customer_transactions[['R','F','M']].sum(axis=1)"
   ]
  },
  {
   "cell_type": "code",
   "execution_count": 78,
   "metadata": {},
   "outputs": [
    {
     "data": {
      "text/html": [
       "<div>\n",
       "<style scoped>\n",
       "    .dataframe tbody tr th:only-of-type {\n",
       "        vertical-align: middle;\n",
       "    }\n",
       "\n",
       "    .dataframe tbody tr th {\n",
       "        vertical-align: top;\n",
       "    }\n",
       "\n",
       "    .dataframe thead th {\n",
       "        text-align: right;\n",
       "    }\n",
       "</style>\n",
       "<table border=\"1\" class=\"dataframe\">\n",
       "  <thead>\n",
       "    <tr style=\"text-align: right;\">\n",
       "      <th></th>\n",
       "      <th>frequency</th>\n",
       "      <th>recency</th>\n",
       "      <th>T</th>\n",
       "      <th>monetary_value</th>\n",
       "      <th>palive</th>\n",
       "      <th>churn</th>\n",
       "      <th>R</th>\n",
       "      <th>F</th>\n",
       "      <th>M</th>\n",
       "      <th>RFM_Segment_Concat</th>\n",
       "      <th>RFM_Score</th>\n",
       "    </tr>\n",
       "    <tr>\n",
       "      <th>user_id</th>\n",
       "      <th></th>\n",
       "      <th></th>\n",
       "      <th></th>\n",
       "      <th></th>\n",
       "      <th></th>\n",
       "      <th></th>\n",
       "      <th></th>\n",
       "      <th></th>\n",
       "      <th></th>\n",
       "      <th></th>\n",
       "      <th></th>\n",
       "    </tr>\n",
       "  </thead>\n",
       "  <tbody>\n",
       "    <tr>\n",
       "      <th>user_0</th>\n",
       "      <td>121.0</td>\n",
       "      <td>471.0</td>\n",
       "      <td>485.0</td>\n",
       "      <td>112.742231</td>\n",
       "      <td>9.863371e-01</td>\n",
       "      <td>not churned</td>\n",
       "      <td>1</td>\n",
       "      <td>5</td>\n",
       "      <td>4</td>\n",
       "      <td>154</td>\n",
       "      <td>10.0</td>\n",
       "    </tr>\n",
       "    <tr>\n",
       "      <th>user_1</th>\n",
       "      <td>48.0</td>\n",
       "      <td>391.0</td>\n",
       "      <td>470.0</td>\n",
       "      <td>125.914167</td>\n",
       "      <td>1.193953e-01</td>\n",
       "      <td>churned</td>\n",
       "      <td>1</td>\n",
       "      <td>4</td>\n",
       "      <td>4</td>\n",
       "      <td>144</td>\n",
       "      <td>9.0</td>\n",
       "    </tr>\n",
       "    <tr>\n",
       "      <th>user_10</th>\n",
       "      <td>296.0</td>\n",
       "      <td>492.0</td>\n",
       "      <td>497.0</td>\n",
       "      <td>175.989595</td>\n",
       "      <td>9.967816e-01</td>\n",
       "      <td>not churned</td>\n",
       "      <td>1</td>\n",
       "      <td>5</td>\n",
       "      <td>4</td>\n",
       "      <td>154</td>\n",
       "      <td>10.0</td>\n",
       "    </tr>\n",
       "    <tr>\n",
       "      <th>user_100</th>\n",
       "      <td>72.0</td>\n",
       "      <td>477.0</td>\n",
       "      <td>486.0</td>\n",
       "      <td>287.886389</td>\n",
       "      <td>9.973915e-01</td>\n",
       "      <td>not churned</td>\n",
       "      <td>1</td>\n",
       "      <td>4</td>\n",
       "      <td>5</td>\n",
       "      <td>145</td>\n",
       "      <td>10.0</td>\n",
       "    </tr>\n",
       "    <tr>\n",
       "      <th>user_1000</th>\n",
       "      <td>15.0</td>\n",
       "      <td>171.0</td>\n",
       "      <td>495.0</td>\n",
       "      <td>1420.922667</td>\n",
       "      <td>2.126854e-05</td>\n",
       "      <td>churned</td>\n",
       "      <td>4</td>\n",
       "      <td>2</td>\n",
       "      <td>5</td>\n",
       "      <td>425</td>\n",
       "      <td>11.0</td>\n",
       "    </tr>\n",
       "    <tr>\n",
       "      <th>user_10000</th>\n",
       "      <td>51.0</td>\n",
       "      <td>270.0</td>\n",
       "      <td>276.0</td>\n",
       "      <td>360.173333</td>\n",
       "      <td>9.970593e-01</td>\n",
       "      <td>not churned</td>\n",
       "      <td>2</td>\n",
       "      <td>4</td>\n",
       "      <td>5</td>\n",
       "      <td>245</td>\n",
       "      <td>11.0</td>\n",
       "    </tr>\n",
       "    <tr>\n",
       "      <th>user_10001</th>\n",
       "      <td>16.0</td>\n",
       "      <td>175.0</td>\n",
       "      <td>277.0</td>\n",
       "      <td>187.326875</td>\n",
       "      <td>1.454457e-01</td>\n",
       "      <td>churned</td>\n",
       "      <td>3</td>\n",
       "      <td>2</td>\n",
       "      <td>4</td>\n",
       "      <td>324</td>\n",
       "      <td>9.0</td>\n",
       "    </tr>\n",
       "    <tr>\n",
       "      <th>user_10002</th>\n",
       "      <td>39.0</td>\n",
       "      <td>247.0</td>\n",
       "      <td>285.0</td>\n",
       "      <td>535.155897</td>\n",
       "      <td>7.452881e-01</td>\n",
       "      <td>churned</td>\n",
       "      <td>3</td>\n",
       "      <td>4</td>\n",
       "      <td>5</td>\n",
       "      <td>345</td>\n",
       "      <td>12.0</td>\n",
       "    </tr>\n",
       "    <tr>\n",
       "      <th>user_10004</th>\n",
       "      <td>54.0</td>\n",
       "      <td>247.0</td>\n",
       "      <td>258.0</td>\n",
       "      <td>34.878889</td>\n",
       "      <td>9.905851e-01</td>\n",
       "      <td>not churned</td>\n",
       "      <td>3</td>\n",
       "      <td>4</td>\n",
       "      <td>2</td>\n",
       "      <td>342</td>\n",
       "      <td>9.0</td>\n",
       "    </tr>\n",
       "    <tr>\n",
       "      <th>user_10005</th>\n",
       "      <td>36.0</td>\n",
       "      <td>233.0</td>\n",
       "      <td>260.0</td>\n",
       "      <td>53.931944</td>\n",
       "      <td>9.328346e-01</td>\n",
       "      <td>not churned</td>\n",
       "      <td>3</td>\n",
       "      <td>3</td>\n",
       "      <td>2</td>\n",
       "      <td>332</td>\n",
       "      <td>8.0</td>\n",
       "    </tr>\n",
       "    <tr>\n",
       "      <th>user_10006</th>\n",
       "      <td>17.0</td>\n",
       "      <td>107.0</td>\n",
       "      <td>252.0</td>\n",
       "      <td>36.758824</td>\n",
       "      <td>1.254138e-04</td>\n",
       "      <td>churned</td>\n",
       "      <td>4</td>\n",
       "      <td>2</td>\n",
       "      <td>2</td>\n",
       "      <td>422</td>\n",
       "      <td>8.0</td>\n",
       "    </tr>\n",
       "    <tr>\n",
       "      <th>user_10007</th>\n",
       "      <td>29.0</td>\n",
       "      <td>275.0</td>\n",
       "      <td>284.0</td>\n",
       "      <td>73.813448</td>\n",
       "      <td>9.956436e-01</td>\n",
       "      <td>not churned</td>\n",
       "      <td>2</td>\n",
       "      <td>3</td>\n",
       "      <td>3</td>\n",
       "      <td>233</td>\n",
       "      <td>8.0</td>\n",
       "    </tr>\n",
       "    <tr>\n",
       "      <th>user_10008</th>\n",
       "      <td>20.0</td>\n",
       "      <td>98.0</td>\n",
       "      <td>274.0</td>\n",
       "      <td>131.736000</td>\n",
       "      <td>3.764338e-07</td>\n",
       "      <td>churned</td>\n",
       "      <td>4</td>\n",
       "      <td>3</td>\n",
       "      <td>4</td>\n",
       "      <td>434</td>\n",
       "      <td>11.0</td>\n",
       "    </tr>\n",
       "    <tr>\n",
       "      <th>user_10009</th>\n",
       "      <td>148.0</td>\n",
       "      <td>253.0</td>\n",
       "      <td>260.0</td>\n",
       "      <td>113.793581</td>\n",
       "      <td>9.823222e-01</td>\n",
       "      <td>not churned</td>\n",
       "      <td>2</td>\n",
       "      <td>5</td>\n",
       "      <td>4</td>\n",
       "      <td>254</td>\n",
       "      <td>11.0</td>\n",
       "    </tr>\n",
       "    <tr>\n",
       "      <th>user_1001</th>\n",
       "      <td>12.0</td>\n",
       "      <td>162.0</td>\n",
       "      <td>490.0</td>\n",
       "      <td>106.036667</td>\n",
       "      <td>2.280667e-04</td>\n",
       "      <td>churned</td>\n",
       "      <td>4</td>\n",
       "      <td>2</td>\n",
       "      <td>3</td>\n",
       "      <td>423</td>\n",
       "      <td>9.0</td>\n",
       "    </tr>\n",
       "    <tr>\n",
       "      <th>user_10010</th>\n",
       "      <td>15.0</td>\n",
       "      <td>222.0</td>\n",
       "      <td>284.0</td>\n",
       "      <td>369.529333</td>\n",
       "      <td>8.689770e-01</td>\n",
       "      <td>not churned</td>\n",
       "      <td>3</td>\n",
       "      <td>2</td>\n",
       "      <td>5</td>\n",
       "      <td>325</td>\n",
       "      <td>10.0</td>\n",
       "    </tr>\n",
       "    <tr>\n",
       "      <th>user_10011</th>\n",
       "      <td>53.0</td>\n",
       "      <td>269.0</td>\n",
       "      <td>285.0</td>\n",
       "      <td>217.104151</td>\n",
       "      <td>9.806282e-01</td>\n",
       "      <td>not churned</td>\n",
       "      <td>2</td>\n",
       "      <td>4</td>\n",
       "      <td>5</td>\n",
       "      <td>245</td>\n",
       "      <td>11.0</td>\n",
       "    </tr>\n",
       "    <tr>\n",
       "      <th>user_10012</th>\n",
       "      <td>95.0</td>\n",
       "      <td>233.0</td>\n",
       "      <td>260.0</td>\n",
       "      <td>34.760632</td>\n",
       "      <td>5.925022e-02</td>\n",
       "      <td>churned</td>\n",
       "      <td>3</td>\n",
       "      <td>5</td>\n",
       "      <td>2</td>\n",
       "      <td>352</td>\n",
       "      <td>10.0</td>\n",
       "    </tr>\n",
       "    <tr>\n",
       "      <th>user_10013</th>\n",
       "      <td>21.0</td>\n",
       "      <td>253.0</td>\n",
       "      <td>258.0</td>\n",
       "      <td>42.892857</td>\n",
       "      <td>9.964164e-01</td>\n",
       "      <td>not churned</td>\n",
       "      <td>2</td>\n",
       "      <td>3</td>\n",
       "      <td>2</td>\n",
       "      <td>232</td>\n",
       "      <td>7.0</td>\n",
       "    </tr>\n",
       "    <tr>\n",
       "      <th>user_10014</th>\n",
       "      <td>33.0</td>\n",
       "      <td>248.0</td>\n",
       "      <td>260.0</td>\n",
       "      <td>167.735758</td>\n",
       "      <td>9.928778e-01</td>\n",
       "      <td>not churned</td>\n",
       "      <td>3</td>\n",
       "      <td>3</td>\n",
       "      <td>4</td>\n",
       "      <td>334</td>\n",
       "      <td>10.0</td>\n",
       "    </tr>\n",
       "  </tbody>\n",
       "</table>\n",
       "</div>"
      ],
      "text/plain": [
       "            frequency  recency      T  monetary_value        palive  \\\n",
       "user_id                                                               \n",
       "user_0          121.0    471.0  485.0      112.742231  9.863371e-01   \n",
       "user_1           48.0    391.0  470.0      125.914167  1.193953e-01   \n",
       "user_10         296.0    492.0  497.0      175.989595  9.967816e-01   \n",
       "user_100         72.0    477.0  486.0      287.886389  9.973915e-01   \n",
       "user_1000        15.0    171.0  495.0     1420.922667  2.126854e-05   \n",
       "user_10000       51.0    270.0  276.0      360.173333  9.970593e-01   \n",
       "user_10001       16.0    175.0  277.0      187.326875  1.454457e-01   \n",
       "user_10002       39.0    247.0  285.0      535.155897  7.452881e-01   \n",
       "user_10004       54.0    247.0  258.0       34.878889  9.905851e-01   \n",
       "user_10005       36.0    233.0  260.0       53.931944  9.328346e-01   \n",
       "user_10006       17.0    107.0  252.0       36.758824  1.254138e-04   \n",
       "user_10007       29.0    275.0  284.0       73.813448  9.956436e-01   \n",
       "user_10008       20.0     98.0  274.0      131.736000  3.764338e-07   \n",
       "user_10009      148.0    253.0  260.0      113.793581  9.823222e-01   \n",
       "user_1001        12.0    162.0  490.0      106.036667  2.280667e-04   \n",
       "user_10010       15.0    222.0  284.0      369.529333  8.689770e-01   \n",
       "user_10011       53.0    269.0  285.0      217.104151  9.806282e-01   \n",
       "user_10012       95.0    233.0  260.0       34.760632  5.925022e-02   \n",
       "user_10013       21.0    253.0  258.0       42.892857  9.964164e-01   \n",
       "user_10014       33.0    248.0  260.0      167.735758  9.928778e-01   \n",
       "\n",
       "                  churn  R  F  M RFM_Segment_Concat  RFM_Score  \n",
       "user_id                                                         \n",
       "user_0      not churned  1  5  4                154       10.0  \n",
       "user_1          churned  1  4  4                144        9.0  \n",
       "user_10     not churned  1  5  4                154       10.0  \n",
       "user_100    not churned  1  4  5                145       10.0  \n",
       "user_1000       churned  4  2  5                425       11.0  \n",
       "user_10000  not churned  2  4  5                245       11.0  \n",
       "user_10001      churned  3  2  4                324        9.0  \n",
       "user_10002      churned  3  4  5                345       12.0  \n",
       "user_10004  not churned  3  4  2                342        9.0  \n",
       "user_10005  not churned  3  3  2                332        8.0  \n",
       "user_10006      churned  4  2  2                422        8.0  \n",
       "user_10007  not churned  2  3  3                233        8.0  \n",
       "user_10008      churned  4  3  4                434       11.0  \n",
       "user_10009  not churned  2  5  4                254       11.0  \n",
       "user_1001       churned  4  2  3                423        9.0  \n",
       "user_10010  not churned  3  2  5                325       10.0  \n",
       "user_10011  not churned  2  4  5                245       11.0  \n",
       "user_10012      churned  3  5  2                352       10.0  \n",
       "user_10013  not churned  2  3  2                232        7.0  \n",
       "user_10014  not churned  3  3  4                334       10.0  "
      ]
     },
     "execution_count": 78,
     "metadata": {},
     "output_type": "execute_result"
    }
   ],
   "source": [
    "customer_transactions.head(20)"
   ]
  },
  {
   "cell_type": "markdown",
   "metadata": {},
   "source": [
    "# test/experiment to check whether we are actually reducing churn?"
   ]
  },
  {
   "cell_type": "markdown",
   "metadata": {},
   "source": [
    "whether we are reducing churn or not can be viewed by calculation ration between the total number of customers lost and the total number of customers (is called churn rate). If churn customers are decreasing, then the churn rate will be decreasing. This indicates the business action plans and campaigns are effective and improving the business."
   ]
  },
  {
   "cell_type": "code",
   "execution_count": 92,
   "metadata": {},
   "outputs": [],
   "source": [
    "campaign=notifications[notifications['reason']=='REENGAGEMENT_ACTIVE_FUNDS']"
   ]
  },
  {
   "cell_type": "code",
   "execution_count": 114,
   "metadata": {},
   "outputs": [
    {
     "data": {
      "text/html": [
       "<div>\n",
       "<style scoped>\n",
       "    .dataframe tbody tr th:only-of-type {\n",
       "        vertical-align: middle;\n",
       "    }\n",
       "\n",
       "    .dataframe tbody tr th {\n",
       "        vertical-align: top;\n",
       "    }\n",
       "\n",
       "    .dataframe thead th {\n",
       "        text-align: right;\n",
       "    }\n",
       "</style>\n",
       "<table border=\"1\" class=\"dataframe\">\n",
       "  <thead>\n",
       "    <tr style=\"text-align: right;\">\n",
       "      <th></th>\n",
       "      <th>reason</th>\n",
       "      <th>channel</th>\n",
       "      <th>status</th>\n",
       "      <th>user_id</th>\n",
       "      <th>created_date</th>\n",
       "    </tr>\n",
       "  </thead>\n",
       "  <tbody>\n",
       "    <tr>\n",
       "      <th>0</th>\n",
       "      <td>REENGAGEMENT_ACTIVE_FUNDS</td>\n",
       "      <td>PUSH</td>\n",
       "      <td>SENT</td>\n",
       "      <td>user_7086</td>\n",
       "      <td>2018-12-02 17:58:33.320645</td>\n",
       "    </tr>\n",
       "    <tr>\n",
       "      <th>1</th>\n",
       "      <td>REENGAGEMENT_ACTIVE_FUNDS</td>\n",
       "      <td>PUSH</td>\n",
       "      <td>SENT</td>\n",
       "      <td>user_6598</td>\n",
       "      <td>2018-12-01 23:09:37.367127</td>\n",
       "    </tr>\n",
       "    <tr>\n",
       "      <th>2</th>\n",
       "      <td>REENGAGEMENT_ACTIVE_FUNDS</td>\n",
       "      <td>PUSH</td>\n",
       "      <td>SENT</td>\n",
       "      <td>user_4151</td>\n",
       "      <td>2018-12-04 02:57:56.425660</td>\n",
       "    </tr>\n",
       "    <tr>\n",
       "      <th>3</th>\n",
       "      <td>REENGAGEMENT_ACTIVE_FUNDS</td>\n",
       "      <td>PUSH</td>\n",
       "      <td>SENT</td>\n",
       "      <td>user_1408</td>\n",
       "      <td>2018-12-11 02:04:46.284683</td>\n",
       "    </tr>\n",
       "    <tr>\n",
       "      <th>4</th>\n",
       "      <td>REENGAGEMENT_ACTIVE_FUNDS</td>\n",
       "      <td>PUSH</td>\n",
       "      <td>SENT</td>\n",
       "      <td>user_6292</td>\n",
       "      <td>2018-12-14 17:09:58.900808</td>\n",
       "    </tr>\n",
       "  </tbody>\n",
       "</table>\n",
       "</div>"
      ],
      "text/plain": [
       "                      reason channel status    user_id  \\\n",
       "0  REENGAGEMENT_ACTIVE_FUNDS    PUSH   SENT  user_7086   \n",
       "1  REENGAGEMENT_ACTIVE_FUNDS    PUSH   SENT  user_6598   \n",
       "2  REENGAGEMENT_ACTIVE_FUNDS    PUSH   SENT  user_4151   \n",
       "3  REENGAGEMENT_ACTIVE_FUNDS    PUSH   SENT  user_1408   \n",
       "4  REENGAGEMENT_ACTIVE_FUNDS    PUSH   SENT  user_6292   \n",
       "\n",
       "                created_date  \n",
       "0 2018-12-02 17:58:33.320645  \n",
       "1 2018-12-01 23:09:37.367127  \n",
       "2 2018-12-04 02:57:56.425660  \n",
       "3 2018-12-11 02:04:46.284683  \n",
       "4 2018-12-14 17:09:58.900808  "
      ]
     },
     "execution_count": 114,
     "metadata": {},
     "output_type": "execute_result"
    }
   ],
   "source": [
    "campaign.head()"
   ]
  },
  {
   "cell_type": "code",
   "execution_count": 111,
   "metadata": {},
   "outputs": [
    {
     "data": {
      "text/plain": [
       "dtype('<M8[ns]')"
      ]
     },
     "execution_count": 111,
     "metadata": {},
     "output_type": "execute_result"
    }
   ],
   "source": [
    "transactions['created_date'].dtype"
   ]
  },
  {
   "cell_type": "code",
   "execution_count": 140,
   "metadata": {},
   "outputs": [],
   "source": [
    "def before_campaign_count(userid):\n",
    "    notificationdate=notifications[(notifications['user_id']==userid)&(notifications['reason']=='REENGAGEMENT_ACTIVE_FUNDS')]['created_date'].max()\n",
    "    before_noti_trans=transactions[(transactions['created_date']< notificationdate)&(transactions['user_id']==userid)]['transaction_id']\n",
    "    before_noti_trans_count=before_noti_trans.count()\n",
    "    return before_noti_trans_count"
   ]
  },
  {
   "cell_type": "code",
   "execution_count": 141,
   "metadata": {},
   "outputs": [],
   "source": [
    "def after_campaign_count(userid):\n",
    "    notificationdate=notifications[(notifications['user_id']==userid)&(notifications['reason']=='REENGAGEMENT_ACTIVE_FUNDS')]['created_date'].max()\n",
    "    after_noti_trans=transactions[(transactions['created_date']> notificationdate)&(transactions['user_id']==userid)]['transaction_id']\n",
    "    after_noti_trans_count=after_noti_trans.count()\n",
    "    return after_noti_trans_count"
   ]
  },
  {
   "cell_type": "code",
   "execution_count": 121,
   "metadata": {},
   "outputs": [
    {
     "data": {
      "text/plain": [
       "Timestamp('2018-12-11 02:04:46.284683')"
      ]
     },
     "execution_count": 121,
     "metadata": {},
     "output_type": "execute_result"
    }
   ],
   "source": [
    "notifications[(notifications['user_id']=='user_1408')&(notifications['reason']=='REENGAGEMENT_ACTIVE_FUNDS')]['created_date'].max()"
   ]
  },
  {
   "cell_type": "code",
   "execution_count": 156,
   "metadata": {},
   "outputs": [
    {
     "data": {
      "text/plain": [
       "84"
      ]
     },
     "execution_count": 156,
     "metadata": {},
     "output_type": "execute_result"
    }
   ],
   "source": [
    "before_campaign_count('user_10002')"
   ]
  },
  {
   "cell_type": "code",
   "execution_count": 157,
   "metadata": {},
   "outputs": [
    {
     "data": {
      "text/plain": [
       "5"
      ]
     },
     "execution_count": 157,
     "metadata": {},
     "output_type": "execute_result"
    }
   ],
   "source": [
    "after_campaign_count('user_10002')"
   ]
  },
  {
   "cell_type": "code",
   "execution_count": 136,
   "metadata": {},
   "outputs": [],
   "source": [
    "customer_transactions.reset_index(level=0,inplace=True)"
   ]
  },
  {
   "cell_type": "code",
   "execution_count": 138,
   "metadata": {},
   "outputs": [
    {
     "data": {
      "text/plain": [
       "user_id                 object\n",
       "frequency              float64\n",
       "recency                float64\n",
       "T                      float64\n",
       "monetary_value         float64\n",
       "palive                 float64\n",
       "churn                   object\n",
       "R                     category\n",
       "F                     category\n",
       "M                     category\n",
       "RFM_Segment_Concat      object\n",
       "RFM_Score              float64\n",
       "dtype: object"
      ]
     },
     "execution_count": 138,
     "metadata": {},
     "output_type": "execute_result"
    }
   ],
   "source": [
    "customer_transactions.dtypes"
   ]
  },
  {
   "cell_type": "code",
   "execution_count": 154,
   "metadata": {},
   "outputs": [
    {
     "data": {
      "text/html": [
       "<div>\n",
       "<style scoped>\n",
       "    .dataframe tbody tr th:only-of-type {\n",
       "        vertical-align: middle;\n",
       "    }\n",
       "\n",
       "    .dataframe tbody tr th {\n",
       "        vertical-align: top;\n",
       "    }\n",
       "\n",
       "    .dataframe thead th {\n",
       "        text-align: right;\n",
       "    }\n",
       "</style>\n",
       "<table border=\"1\" class=\"dataframe\">\n",
       "  <thead>\n",
       "    <tr style=\"text-align: right;\">\n",
       "      <th></th>\n",
       "      <th>user_id</th>\n",
       "      <th>frequency</th>\n",
       "      <th>recency</th>\n",
       "      <th>T</th>\n",
       "      <th>monetary_value</th>\n",
       "      <th>palive</th>\n",
       "      <th>churn</th>\n",
       "      <th>R</th>\n",
       "      <th>F</th>\n",
       "      <th>M</th>\n",
       "      <th>RFM_Segment_Concat</th>\n",
       "      <th>RFM_Score</th>\n",
       "    </tr>\n",
       "  </thead>\n",
       "  <tbody>\n",
       "    <tr>\n",
       "      <th>0</th>\n",
       "      <td>user_0</td>\n",
       "      <td>121.0</td>\n",
       "      <td>471.0</td>\n",
       "      <td>485.0</td>\n",
       "      <td>112.742231</td>\n",
       "      <td>0.986337</td>\n",
       "      <td>not churned</td>\n",
       "      <td>1</td>\n",
       "      <td>5</td>\n",
       "      <td>4</td>\n",
       "      <td>154</td>\n",
       "      <td>10.0</td>\n",
       "    </tr>\n",
       "    <tr>\n",
       "      <th>1</th>\n",
       "      <td>user_1</td>\n",
       "      <td>48.0</td>\n",
       "      <td>391.0</td>\n",
       "      <td>470.0</td>\n",
       "      <td>125.914167</td>\n",
       "      <td>0.119395</td>\n",
       "      <td>churned</td>\n",
       "      <td>1</td>\n",
       "      <td>4</td>\n",
       "      <td>4</td>\n",
       "      <td>144</td>\n",
       "      <td>9.0</td>\n",
       "    </tr>\n",
       "    <tr>\n",
       "      <th>2</th>\n",
       "      <td>user_10</td>\n",
       "      <td>296.0</td>\n",
       "      <td>492.0</td>\n",
       "      <td>497.0</td>\n",
       "      <td>175.989595</td>\n",
       "      <td>0.996782</td>\n",
       "      <td>not churned</td>\n",
       "      <td>1</td>\n",
       "      <td>5</td>\n",
       "      <td>4</td>\n",
       "      <td>154</td>\n",
       "      <td>10.0</td>\n",
       "    </tr>\n",
       "    <tr>\n",
       "      <th>3</th>\n",
       "      <td>user_100</td>\n",
       "      <td>72.0</td>\n",
       "      <td>477.0</td>\n",
       "      <td>486.0</td>\n",
       "      <td>287.886389</td>\n",
       "      <td>0.997392</td>\n",
       "      <td>not churned</td>\n",
       "      <td>1</td>\n",
       "      <td>4</td>\n",
       "      <td>5</td>\n",
       "      <td>145</td>\n",
       "      <td>10.0</td>\n",
       "    </tr>\n",
       "    <tr>\n",
       "      <th>4</th>\n",
       "      <td>user_1000</td>\n",
       "      <td>15.0</td>\n",
       "      <td>171.0</td>\n",
       "      <td>495.0</td>\n",
       "      <td>1420.922667</td>\n",
       "      <td>0.000021</td>\n",
       "      <td>churned</td>\n",
       "      <td>4</td>\n",
       "      <td>2</td>\n",
       "      <td>5</td>\n",
       "      <td>425</td>\n",
       "      <td>11.0</td>\n",
       "    </tr>\n",
       "  </tbody>\n",
       "</table>\n",
       "</div>"
      ],
      "text/plain": [
       "     user_id  frequency  recency      T  monetary_value    palive  \\\n",
       "0     user_0      121.0    471.0  485.0      112.742231  0.986337   \n",
       "1     user_1       48.0    391.0  470.0      125.914167  0.119395   \n",
       "2    user_10      296.0    492.0  497.0      175.989595  0.996782   \n",
       "3   user_100       72.0    477.0  486.0      287.886389  0.997392   \n",
       "4  user_1000       15.0    171.0  495.0     1420.922667  0.000021   \n",
       "\n",
       "         churn  R  F  M RFM_Segment_Concat  RFM_Score  \n",
       "0  not churned  1  5  4                154       10.0  \n",
       "1      churned  1  4  4                144        9.0  \n",
       "2  not churned  1  5  4                154       10.0  \n",
       "3  not churned  1  4  5                145       10.0  \n",
       "4      churned  4  2  5                425       11.0  "
      ]
     },
     "execution_count": 154,
     "metadata": {},
     "output_type": "execute_result"
    }
   ],
   "source": [
    "customer_transactions.head()"
   ]
  },
  {
   "cell_type": "code",
   "execution_count": 211,
   "metadata": {},
   "outputs": [],
   "source": [
    "import pandasql as pds"
   ]
  },
  {
   "cell_type": "markdown",
   "metadata": {},
   "source": [
    "noti_trans=pds.sqldf(\"select camp.user_id as user_id, count(*) as count_after_campaign from(select tran.user_id as user_id, tran.created_date as created_date, noti.notification_date as notification_date from (select user_id,created_date from transactions )as tran left join ( select user_id, max(created_date) as notification_date from notifications where reason = 'REENGAGEMENT_ACTIVE_FUNDS' group by user_id ) as noti on tran.user_id=noti.user_id ) as camp where camp.created_date > camp.notification_date group by camp.user_id order by camp.user_id\")"
   ]
  },
  {
   "cell_type": "code",
   "execution_count": 218,
   "metadata": {},
   "outputs": [
    {
     "data": {
      "text/plain": [
       "user_id    object\n",
       "dtype: object"
      ]
     },
     "execution_count": 218,
     "metadata": {},
     "output_type": "execute_result"
    }
   ],
   "source": [
    "noti_trans.dtypes"
   ]
  },
  {
   "cell_type": "code",
   "execution_count": 198,
   "metadata": {},
   "outputs": [],
   "source": [
    "max_notifications=notifications[notifications['reason']=='REENGAGEMENT_ACTIVE_FUNDS'].groupby('user_id').agg({'created_date': lambda x: x.max()})"
   ]
  },
  {
   "cell_type": "code",
   "execution_count": 199,
   "metadata": {},
   "outputs": [
    {
     "data": {
      "text/plain": [
       "Timestamp('2019-02-13 00:00:36.630466')"
      ]
     },
     "execution_count": 199,
     "metadata": {},
     "output_type": "execute_result"
    }
   ],
   "source": [
    "max_notifications1.loc['user_0','created_date']"
   ]
  },
  {
   "cell_type": "code",
   "execution_count": 206,
   "metadata": {},
   "outputs": [],
   "source": [
    "def nots(userid):\n",
    "    return max_notifications1.loc[userid,'created_date']"
   ]
  },
  {
   "cell_type": "code",
   "execution_count": 209,
   "metadata": {},
   "outputs": [
    {
     "data": {
      "text/plain": [
       "0"
      ]
     },
     "execution_count": 209,
     "metadata": {},
     "output_type": "execute_result"
    }
   ],
   "source": [
    "before_campaign_count('user_10')"
   ]
  },
  {
   "cell_type": "code",
   "execution_count": 202,
   "metadata": {},
   "outputs": [],
   "source": [
    "def before_campaign_count_improved(userid):\n",
    "    notificationdate=max_notifications1.loc[userid,'created_date']\n",
    "    before_noti_trans=transactions[(transactions['created_date']< notificationdate)&(transactions['user_id']==userid)]['transaction_id']\n",
    "    before_noti_trans_count=before_noti_trans.count()\n",
    "    return before_noti_trans_count"
   ]
  },
  {
   "cell_type": "code",
   "execution_count": 204,
   "metadata": {},
   "outputs": [
    {
     "data": {
      "text/plain": [
       "105"
      ]
     },
     "execution_count": 204,
     "metadata": {},
     "output_type": "execute_result"
    }
   ],
   "source": [
    "before_campaign_count_improved('user_1')"
   ]
  },
  {
   "cell_type": "markdown",
   "metadata": {},
   "source": [
    "before_camp=customer_transactions['user_id'].apply(before_campaign_count_improved)"
   ]
  },
  {
   "cell_type": "code",
   "execution_count": 147,
   "metadata": {},
   "outputs": [],
   "source": [
    "campaign_effect=pd.DataFrame({'user_id':[],'before_campaign_count':[],'after_campaign_count':[]})"
   ]
  },
  {
   "cell_type": "markdown",
   "metadata": {},
   "source": [
    "customer_transactions['user_id'].apply(before_campaign_count)"
   ]
  },
  {
   "cell_type": "markdown",
   "metadata": {},
   "source": [
    "\n",
    "for userid in  customer_transactions['user_id']:\n",
    "    print(userid)\n",
    "    notificationdate=notifications[(notifications['user_id']==userid)&(notifications['reason']=='REENGAGEMENT_ACTIVE_FUNDS')]['created_date'].max()\n",
    "    after_noti_trans=transactions[(transactions['created_date']>= notificationdate)&(transactions['user_id']==userid)]['transaction_id']\n",
    "    after_noti_trans_count=after_noti_trans.count()\n",
    "    print(after_noti_trans_count)\n",
    "    before_noti_trans=transactions[(transactions['created_date']< notificationdate)&(transactions['user_id']==userid)]['transaction_id']\n",
    "    before_noti_trans_count=before_noti_trans.count()\n",
    "    print(before_noti_trans_count)\n",
    "    campaign_effect.append(userid,before_noti_trans_count,after_noti_trans_count)"
   ]
  },
  {
   "cell_type": "code",
   "execution_count": null,
   "metadata": {},
   "outputs": [],
   "source": []
  }
 ],
 "metadata": {
  "kernelspec": {
   "display_name": "Python 3",
   "language": "python",
   "name": "python3"
  },
  "language_info": {
   "codemirror_mode": {
    "name": "ipython",
    "version": 3
   },
   "file_extension": ".py",
   "mimetype": "text/x-python",
   "name": "python",
   "nbconvert_exporter": "python",
   "pygments_lexer": "ipython3",
   "version": "3.6.5"
  }
 },
 "nbformat": 4,
 "nbformat_minor": 2
}
